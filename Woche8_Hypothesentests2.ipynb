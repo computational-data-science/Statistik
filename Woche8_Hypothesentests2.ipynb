{
 "cells": [
  {
   "cell_type": "code",
   "execution_count": 29,
   "id": "c3783ebc-0d61-4bec-a922-8cd79c1bea89",
   "metadata": {},
   "outputs": [],
   "source": [
    "import pandas as pd\n",
    "import numpy as np\n",
    "import matplotlib.pyplot as plt\n",
    "import seaborn as sns\n",
    "from scipy import stats\n",
    "from scipy.stats import ttest_1samp, ttest_ind, chi2_contingency, shapiro, spearmanr, pearsonr, wilcoxon"
   ]
  },
  {
   "cell_type": "code",
   "execution_count": 2,
   "id": "697cd584-3025-4354-9ec4-6604d248fe31",
   "metadata": {},
   "outputs": [
    {
     "data": {
      "text/html": [
       "<div>\n",
       "<style scoped>\n",
       "    .dataframe tbody tr th:only-of-type {\n",
       "        vertical-align: middle;\n",
       "    }\n",
       "\n",
       "    .dataframe tbody tr th {\n",
       "        vertical-align: top;\n",
       "    }\n",
       "\n",
       "    .dataframe thead th {\n",
       "        text-align: right;\n",
       "    }\n",
       "</style>\n",
       "<table border=\"1\" class=\"dataframe\">\n",
       "  <thead>\n",
       "    <tr style=\"text-align: right;\">\n",
       "      <th></th>\n",
       "      <th>Influencer insta name</th>\n",
       "      <th>instagram name</th>\n",
       "      <th>category_1</th>\n",
       "      <th>category_2</th>\n",
       "      <th>Followers</th>\n",
       "      <th>Audience country(mostly)</th>\n",
       "      <th>Authentic engagement\\r\\n</th>\n",
       "      <th>Engagement avg\\r\\n</th>\n",
       "    </tr>\n",
       "  </thead>\n",
       "  <tbody>\n",
       "    <tr>\n",
       "      <th>0</th>\n",
       "      <td>433</td>\n",
       "      <td>433</td>\n",
       "      <td>Sports with a ball</td>\n",
       "      <td>NaN</td>\n",
       "      <td>48.5M</td>\n",
       "      <td>Spain</td>\n",
       "      <td>383.1K</td>\n",
       "      <td>637K</td>\n",
       "    </tr>\n",
       "    <tr>\n",
       "      <th>1</th>\n",
       "      <td>__youngbae__</td>\n",
       "      <td>TAEYANG</td>\n",
       "      <td>Music</td>\n",
       "      <td>NaN</td>\n",
       "      <td>12.7M</td>\n",
       "      <td>Indonesia</td>\n",
       "      <td>478K</td>\n",
       "      <td>542.3K</td>\n",
       "    </tr>\n",
       "    <tr>\n",
       "      <th>2</th>\n",
       "      <td>_agentgirl_</td>\n",
       "      <td>НАСТЯ ИВЛЕЕВА</td>\n",
       "      <td>Shows</td>\n",
       "      <td>NaN</td>\n",
       "      <td>18.8M</td>\n",
       "      <td>Russia</td>\n",
       "      <td>310.8K</td>\n",
       "      <td>377.9K</td>\n",
       "    </tr>\n",
       "    <tr>\n",
       "      <th>3</th>\n",
       "      <td>_imyour_joy</td>\n",
       "      <td>Joy</td>\n",
       "      <td>Lifestyle</td>\n",
       "      <td>NaN</td>\n",
       "      <td>13.5M</td>\n",
       "      <td>Indonesia</td>\n",
       "      <td>1.1M</td>\n",
       "      <td>1.4M</td>\n",
       "    </tr>\n",
       "    <tr>\n",
       "      <th>4</th>\n",
       "      <td>_jeongjaehyun</td>\n",
       "      <td>Jaehyun</td>\n",
       "      <td>NaN</td>\n",
       "      <td>NaN</td>\n",
       "      <td>11.1M</td>\n",
       "      <td>Indonesia</td>\n",
       "      <td>2.5M</td>\n",
       "      <td>3.1M</td>\n",
       "    </tr>\n",
       "  </tbody>\n",
       "</table>\n",
       "</div>"
      ],
      "text/plain": [
       "  Influencer insta name instagram name          category_1 category_2  \\\n",
       "0                   433            433  Sports with a ball        NaN   \n",
       "1          __youngbae__        TAEYANG               Music        NaN   \n",
       "2           _agentgirl_  НАСТЯ ИВЛЕЕВА               Shows        NaN   \n",
       "3           _imyour_joy            Joy           Lifestyle        NaN   \n",
       "4         _jeongjaehyun        Jaehyun                 NaN        NaN   \n",
       "\n",
       "  Followers Audience country(mostly) Authentic engagement\\r\\n  \\\n",
       "0     48.5M                    Spain                   383.1K   \n",
       "1     12.7M                Indonesia                     478K   \n",
       "2     18.8M                   Russia                   310.8K   \n",
       "3     13.5M                Indonesia                     1.1M   \n",
       "4     11.1M                Indonesia                     2.5M   \n",
       "\n",
       "  Engagement avg\\r\\n  \n",
       "0               637K  \n",
       "1             542.3K  \n",
       "2             377.9K  \n",
       "3               1.4M  \n",
       "4               3.1M  "
      ]
     },
     "execution_count": 2,
     "metadata": {},
     "output_type": "execute_result"
    }
   ],
   "source": [
    "df = pd.read_csv(\"social media influencers - instagram.csv\")\n",
    "df.head()"
   ]
  },
  {
   "cell_type": "code",
   "execution_count": 3,
   "id": "88f3442e-6570-4aad-ac6b-9d1b12415f57",
   "metadata": {},
   "outputs": [],
   "source": [
    "df.rename(columns={\n",
    "    \"Influencer insta name\": \"Handle\",\n",
    "    \"instagram name\": \"Name\",\n",
    "    \"category_1\": \"Category_1\",\n",
    "    \"category_2\": \"Category_2\",\n",
    "    \"Followers\": \"Followers\",\n",
    "    \"Audience country(mostly)\": \"Audience_Country\",\n",
    "    \"Authentic engagement\\r\\n\": \"Engagement\",\n",
    "    \"Engagement avg\\r\\n\": \"Engagement_Average\"\n",
    "}, inplace=True)"
   ]
  },
  {
   "cell_type": "code",
   "execution_count": 4,
   "id": "9c72cfdc-7235-4374-885d-87fdf95a8aae",
   "metadata": {},
   "outputs": [
    {
     "data": {
      "text/html": [
       "<div>\n",
       "<style scoped>\n",
       "    .dataframe tbody tr th:only-of-type {\n",
       "        vertical-align: middle;\n",
       "    }\n",
       "\n",
       "    .dataframe tbody tr th {\n",
       "        vertical-align: top;\n",
       "    }\n",
       "\n",
       "    .dataframe thead th {\n",
       "        text-align: right;\n",
       "    }\n",
       "</style>\n",
       "<table border=\"1\" class=\"dataframe\">\n",
       "  <thead>\n",
       "    <tr style=\"text-align: right;\">\n",
       "      <th></th>\n",
       "      <th>Handle</th>\n",
       "      <th>Name</th>\n",
       "      <th>Category_1</th>\n",
       "      <th>Category_2</th>\n",
       "      <th>Followers</th>\n",
       "      <th>Audience_Country</th>\n",
       "      <th>Engagement</th>\n",
       "      <th>Engagement_Average</th>\n",
       "    </tr>\n",
       "  </thead>\n",
       "  <tbody>\n",
       "    <tr>\n",
       "      <th>0</th>\n",
       "      <td>433</td>\n",
       "      <td>433</td>\n",
       "      <td>Sports with a ball</td>\n",
       "      <td>NaN</td>\n",
       "      <td>48.5M</td>\n",
       "      <td>Spain</td>\n",
       "      <td>383.1K</td>\n",
       "      <td>637K</td>\n",
       "    </tr>\n",
       "    <tr>\n",
       "      <th>1</th>\n",
       "      <td>__youngbae__</td>\n",
       "      <td>TAEYANG</td>\n",
       "      <td>Music</td>\n",
       "      <td>NaN</td>\n",
       "      <td>12.7M</td>\n",
       "      <td>Indonesia</td>\n",
       "      <td>478K</td>\n",
       "      <td>542.3K</td>\n",
       "    </tr>\n",
       "    <tr>\n",
       "      <th>2</th>\n",
       "      <td>_agentgirl_</td>\n",
       "      <td>НАСТЯ ИВЛЕЕВА</td>\n",
       "      <td>Shows</td>\n",
       "      <td>NaN</td>\n",
       "      <td>18.8M</td>\n",
       "      <td>Russia</td>\n",
       "      <td>310.8K</td>\n",
       "      <td>377.9K</td>\n",
       "    </tr>\n",
       "    <tr>\n",
       "      <th>3</th>\n",
       "      <td>_imyour_joy</td>\n",
       "      <td>Joy</td>\n",
       "      <td>Lifestyle</td>\n",
       "      <td>NaN</td>\n",
       "      <td>13.5M</td>\n",
       "      <td>Indonesia</td>\n",
       "      <td>1.1M</td>\n",
       "      <td>1.4M</td>\n",
       "    </tr>\n",
       "    <tr>\n",
       "      <th>4</th>\n",
       "      <td>_jeongjaehyun</td>\n",
       "      <td>Jaehyun</td>\n",
       "      <td>NaN</td>\n",
       "      <td>NaN</td>\n",
       "      <td>11.1M</td>\n",
       "      <td>Indonesia</td>\n",
       "      <td>2.5M</td>\n",
       "      <td>3.1M</td>\n",
       "    </tr>\n",
       "  </tbody>\n",
       "</table>\n",
       "</div>"
      ],
      "text/plain": [
       "          Handle           Name          Category_1 Category_2 Followers  \\\n",
       "0            433            433  Sports with a ball        NaN     48.5M   \n",
       "1   __youngbae__        TAEYANG               Music        NaN     12.7M   \n",
       "2    _agentgirl_  НАСТЯ ИВЛЕЕВА               Shows        NaN     18.8M   \n",
       "3    _imyour_joy            Joy           Lifestyle        NaN     13.5M   \n",
       "4  _jeongjaehyun        Jaehyun                 NaN        NaN     11.1M   \n",
       "\n",
       "  Audience_Country Engagement Engagement_Average  \n",
       "0            Spain     383.1K               637K  \n",
       "1        Indonesia       478K             542.3K  \n",
       "2           Russia     310.8K             377.9K  \n",
       "3        Indonesia       1.1M               1.4M  \n",
       "4        Indonesia       2.5M               3.1M  "
      ]
     },
     "execution_count": 4,
     "metadata": {},
     "output_type": "execute_result"
    }
   ],
   "source": [
    "df.head()"
   ]
  },
  {
   "cell_type": "code",
   "execution_count": 5,
   "id": "75fb21ec-09e0-4e7d-95c4-826fe1e944b1",
   "metadata": {},
   "outputs": [],
   "source": [
    "def convert_to_numeric(value):\n",
    "    if isinstance(value, str):\n",
    "        if \"M\" in value:\n",
    "            return float(value.replace(\"M\", \"\")) * 1e6\n",
    "        elif \"K\" in value:\n",
    "            return float(value.replace(\"K\", \"\")) * 1e3\n",
    "    return float(value)"
   ]
  },
  {
   "cell_type": "code",
   "execution_count": 6,
   "id": "5a92ccc9-5419-434a-af7f-07dce8049275",
   "metadata": {},
   "outputs": [],
   "source": [
    "df[\"Followers\"] = df[\"Followers\"].apply(convert_to_numeric)\n",
    "df[\"Engagement\"] = df[\"Engagement\"].apply(convert_to_numeric)\n",
    "df[\"Engagement_Average\"] = df[\"Engagement_Average\"].apply(convert_to_numeric)"
   ]
  },
  {
   "cell_type": "code",
   "execution_count": 7,
   "id": "b1c510e4-87c7-40d3-9986-88f7b9f0b273",
   "metadata": {},
   "outputs": [],
   "source": [
    "df = df.sort_values(by=\"Followers\", ascending=False)"
   ]
  },
  {
   "cell_type": "code",
   "execution_count": 8,
   "id": "b07c2f0a-7831-4409-9b55-d9ca0888edd4",
   "metadata": {},
   "outputs": [
    {
     "data": {
      "text/html": [
       "<div>\n",
       "<style scoped>\n",
       "    .dataframe tbody tr th:only-of-type {\n",
       "        vertical-align: middle;\n",
       "    }\n",
       "\n",
       "    .dataframe tbody tr th {\n",
       "        vertical-align: top;\n",
       "    }\n",
       "\n",
       "    .dataframe thead th {\n",
       "        text-align: right;\n",
       "    }\n",
       "</style>\n",
       "<table border=\"1\" class=\"dataframe\">\n",
       "  <thead>\n",
       "    <tr style=\"text-align: right;\">\n",
       "      <th></th>\n",
       "      <th>Handle</th>\n",
       "      <th>Name</th>\n",
       "      <th>Category_1</th>\n",
       "      <th>Category_2</th>\n",
       "      <th>Followers</th>\n",
       "      <th>Audience_Country</th>\n",
       "      <th>Engagement</th>\n",
       "      <th>Engagement_Average</th>\n",
       "    </tr>\n",
       "  </thead>\n",
       "  <tbody>\n",
       "    <tr>\n",
       "      <th>388</th>\n",
       "      <td>instagram</td>\n",
       "      <td>Instagram</td>\n",
       "      <td>Photography</td>\n",
       "      <td>NaN</td>\n",
       "      <td>487200000.0</td>\n",
       "      <td>India</td>\n",
       "      <td>352300.0</td>\n",
       "      <td>467400.0</td>\n",
       "    </tr>\n",
       "    <tr>\n",
       "      <th>203</th>\n",
       "      <td>cristiano</td>\n",
       "      <td>Cristiano Ronaldo</td>\n",
       "      <td>Sports with a ball</td>\n",
       "      <td>NaN</td>\n",
       "      <td>419600000.0</td>\n",
       "      <td>India</td>\n",
       "      <td>5700000.0</td>\n",
       "      <td>7000000.0</td>\n",
       "    </tr>\n",
       "    <tr>\n",
       "      <th>510</th>\n",
       "      <td>kyliejenner</td>\n",
       "      <td>Kylie 🤍</td>\n",
       "      <td>Fashion</td>\n",
       "      <td>Modeling</td>\n",
       "      <td>323300000.0</td>\n",
       "      <td>United States</td>\n",
       "      <td>7600000.0</td>\n",
       "      <td>12300000.0</td>\n",
       "    </tr>\n",
       "    <tr>\n",
       "      <th>532</th>\n",
       "      <td>leomessi</td>\n",
       "      <td>Leo Messi</td>\n",
       "      <td>Sports with a ball</td>\n",
       "      <td>Family</td>\n",
       "      <td>315400000.0</td>\n",
       "      <td>Argentina</td>\n",
       "      <td>4000000.0</td>\n",
       "      <td>5300000.0</td>\n",
       "    </tr>\n",
       "    <tr>\n",
       "      <th>814</th>\n",
       "      <td>selenagomez</td>\n",
       "      <td>Selena Gomez</td>\n",
       "      <td>Music</td>\n",
       "      <td>Lifestyle</td>\n",
       "      <td>308200000.0</td>\n",
       "      <td>United States</td>\n",
       "      <td>3300000.0</td>\n",
       "      <td>4400000.0</td>\n",
       "    </tr>\n",
       "    <tr>\n",
       "      <th>899</th>\n",
       "      <td>therock</td>\n",
       "      <td>therock</td>\n",
       "      <td>Cinema &amp; Actors/actresses</td>\n",
       "      <td>Fitness &amp; Gym</td>\n",
       "      <td>307000000.0</td>\n",
       "      <td>India</td>\n",
       "      <td>303400.0</td>\n",
       "      <td>396000.0</td>\n",
       "    </tr>\n",
       "    <tr>\n",
       "      <th>87</th>\n",
       "      <td>arianagrande</td>\n",
       "      <td>Ariana Grande</td>\n",
       "      <td>Music</td>\n",
       "      <td>NaN</td>\n",
       "      <td>302300000.0</td>\n",
       "      <td>United States</td>\n",
       "      <td>2900000.0</td>\n",
       "      <td>4100000.0</td>\n",
       "    </tr>\n",
       "    <tr>\n",
       "      <th>494</th>\n",
       "      <td>kimkardashian</td>\n",
       "      <td>Kim Kardashian</td>\n",
       "      <td>Fashion</td>\n",
       "      <td>Beauty</td>\n",
       "      <td>296400000.0</td>\n",
       "      <td>United States</td>\n",
       "      <td>2000000.0</td>\n",
       "      <td>2900000.0</td>\n",
       "    </tr>\n",
       "    <tr>\n",
       "      <th>126</th>\n",
       "      <td>beyonce</td>\n",
       "      <td>Beyoncé</td>\n",
       "      <td>Music</td>\n",
       "      <td>Fashion</td>\n",
       "      <td>246900000.0</td>\n",
       "      <td>United States</td>\n",
       "      <td>2600000.0</td>\n",
       "      <td>3700000.0</td>\n",
       "    </tr>\n",
       "    <tr>\n",
       "      <th>489</th>\n",
       "      <td>khloekardashian</td>\n",
       "      <td>Khloé Kardashian</td>\n",
       "      <td>Clothing &amp; Outfits</td>\n",
       "      <td>Lifestyle</td>\n",
       "      <td>230200000.0</td>\n",
       "      <td>United States</td>\n",
       "      <td>991100.0</td>\n",
       "      <td>1200000.0</td>\n",
       "    </tr>\n",
       "  </tbody>\n",
       "</table>\n",
       "</div>"
      ],
      "text/plain": [
       "              Handle               Name                 Category_1  \\\n",
       "388        instagram          Instagram                Photography   \n",
       "203        cristiano  Cristiano Ronaldo         Sports with a ball   \n",
       "510      kyliejenner            Kylie 🤍                    Fashion   \n",
       "532         leomessi          Leo Messi         Sports with a ball   \n",
       "814      selenagomez       Selena Gomez                      Music   \n",
       "899          therock            therock  Cinema & Actors/actresses   \n",
       "87      arianagrande      Ariana Grande                      Music   \n",
       "494    kimkardashian     Kim Kardashian                    Fashion   \n",
       "126          beyonce           Beyoncé                      Music   \n",
       "489  khloekardashian  Khloé Kardashian         Clothing & Outfits   \n",
       "\n",
       "        Category_2    Followers Audience_Country  Engagement  \\\n",
       "388            NaN  487200000.0            India    352300.0   \n",
       "203            NaN  419600000.0            India   5700000.0   \n",
       "510       Modeling  323300000.0    United States   7600000.0   \n",
       "532         Family  315400000.0        Argentina   4000000.0   \n",
       "814      Lifestyle  308200000.0    United States   3300000.0   \n",
       "899  Fitness & Gym  307000000.0            India    303400.0   \n",
       "87             NaN  302300000.0    United States   2900000.0   \n",
       "494         Beauty  296400000.0    United States   2000000.0   \n",
       "126        Fashion  246900000.0    United States   2600000.0   \n",
       "489      Lifestyle  230200000.0    United States    991100.0   \n",
       "\n",
       "     Engagement_Average  \n",
       "388            467400.0  \n",
       "203           7000000.0  \n",
       "510          12300000.0  \n",
       "532           5300000.0  \n",
       "814           4400000.0  \n",
       "899            396000.0  \n",
       "87            4100000.0  \n",
       "494           2900000.0  \n",
       "126           3700000.0  \n",
       "489           1200000.0  "
      ]
     },
     "execution_count": 8,
     "metadata": {},
     "output_type": "execute_result"
    }
   ],
   "source": [
    "df.head(10)"
   ]
  },
  {
   "cell_type": "code",
   "execution_count": 9,
   "id": "e82f8a52-bde9-4400-a1e0-0ab750baf484",
   "metadata": {},
   "outputs": [
    {
     "data": {
      "text/plain": [
       "array(['Photography', 'Sports with a ball', 'Fashion', 'Music',\n",
       "       'Cinema & Actors/actresses', 'Clothing & Outfits', 'Modeling',\n",
       "       'Nature & landscapes', 'Fitness & Gym', 'Lifestyle', 'Shows',\n",
       "       'Science', nan, 'Family', 'Finance & Economics', 'Beauty',\n",
       "       'Humor & Fun & Happiness', 'Accessories & Jewellery',\n",
       "       'Food & Cooking', 'Cars & Motorbikes', 'Luxury', 'Art/Artists',\n",
       "       'Computers & Gadgets', 'Racing Sports', 'Business & Careers',\n",
       "       'Adult content', 'Literature & Journalism',\n",
       "       'Machinery & Technologies', 'Management & Marketing', 'Animals',\n",
       "       'Kids & Toys', 'Education'], dtype=object)"
      ]
     },
     "execution_count": 9,
     "metadata": {},
     "output_type": "execute_result"
    }
   ],
   "source": [
    "df[\"Category_1\"].unique()"
   ]
  },
  {
   "cell_type": "code",
   "execution_count": 10,
   "id": "8d8dc5f4-0df5-4680-a8cf-efe23804b0af",
   "metadata": {},
   "outputs": [
    {
     "data": {
      "text/plain": [
       "array([nan, 'Modeling', 'Family', 'Lifestyle', 'Fitness & Gym', 'Beauty',\n",
       "       'Fashion', 'Science', 'Shopping & Retail',\n",
       "       'Cinema & Actors/actresses', 'Photography', 'Sports with a ball',\n",
       "       'Music', 'Business & Careers', 'Art/Artists', 'Comics & sketches',\n",
       "       'Clothing & Outfits', 'Shows', 'Luxury', 'Cars & Motorbikes',\n",
       "       'Machinery & Technologies', 'Humor & Fun & Happiness',\n",
       "       'Adult content', 'Literature & Journalism', 'Kids & Toys',\n",
       "       'Finance & Economics', 'Computers & Gadgets', 'Trainers & Coaches'],\n",
       "      dtype=object)"
      ]
     },
     "execution_count": 10,
     "metadata": {},
     "output_type": "execute_result"
    }
   ],
   "source": [
    "df[\"Category_2\"].unique()"
   ]
  },
  {
   "cell_type": "code",
   "execution_count": 11,
   "id": "3554c79e-e919-4625-aa56-40a861e0833f",
   "metadata": {},
   "outputs": [
    {
     "name": "stdout",
     "output_type": "stream",
     "text": [
      "             Category_1                           Cat_1  \\\n",
      "388         Photography  Arts, Photography & Literature   \n",
      "203  Sports with a ball                Sports & Fitness   \n",
      "510             Fashion                Fashion & Beauty   \n",
      "532  Sports with a ball                Sports & Fitness   \n",
      "814               Music                           Music   \n",
      "..                  ...                             ...   \n",
      "255                 NaN                            None   \n",
      "316                 NaN                            None   \n",
      "7             Lifestyle                       Lifestyle   \n",
      "337                 NaN                            None   \n",
      "26                  NaN                            None   \n",
      "\n",
      "                    Category_2          Cat_2  \n",
      "388                        NaN           None  \n",
      "203                        NaN           None  \n",
      "510                   Modeling  Entertainment  \n",
      "532                     Family      Lifestyle  \n",
      "814                  Lifestyle      Lifestyle  \n",
      "..                         ...            ...  \n",
      "255                        NaN           None  \n",
      "316                        NaN           None  \n",
      "7    Cinema & Actors/actresses  Entertainment  \n",
      "337                        NaN           None  \n",
      "26                         NaN           None  \n",
      "\n",
      "[1000 rows x 4 columns]\n"
     ]
    }
   ],
   "source": [
    "# Mapping original categories to the refined tree structure\n",
    "category_mapping = {\n",
    "    # Sports & Fitness\n",
    "    \"Sports with a ball\": \"Sports & Fitness\",\n",
    "    \"Racing Sports\": \"Sports & Fitness\",\n",
    "    \"Fitness & Gym\": \"Sports & Fitness\",\n",
    "    \"Trainers & Coaches\": \"Sports & Fitness\",\n",
    "    \"Cars & Motorbikes\": \"Sports & Fitness\",\n",
    "    \n",
    "    # Entertainment\n",
    "    \"Cinema & Actors/actresses\": \"Entertainment\",\n",
    "    \"Shows\": \"Entertainment\",\n",
    "    \"Humor & Fun & Happiness\": \"Entertainment\",\n",
    "    \"Comics & sketches\": \"Entertainment\",\n",
    "    \"Modeling\": \"Entertainment\",\n",
    "    \n",
    "    # Music\n",
    "    \"Music\": \"Music\",\n",
    "    \n",
    "    # Nature\n",
    "    \"Nature & landscapes\": \"Nature\",\n",
    "    \"Animals\": \"Nature\",\n",
    "    \n",
    "    # Arts, Photography & Literature\n",
    "    \"Photography\": \"Arts, Photography & Literature\",\n",
    "    \"Art/Artists\": \"Arts, Photography & Literature\",\n",
    "    \"Literature & Journalism\": \"Arts, Photography & Literature\",\n",
    "    \n",
    "    # Lifestyle\n",
    "    \"Family\": \"Lifestyle\",\n",
    "    \"Kids & Toys\": \"Lifestyle\",\n",
    "    \"Food & Cooking\": \"Lifestyle\",\n",
    "    \"Lifestyle\": \"Lifestyle\",\n",
    "    \n",
    "    # Adult Content\n",
    "    \"Adult content\": \"Adult Content\",\n",
    "    \n",
    "    # Fashion & Beauty\n",
    "    \"Fashion\": \"Fashion & Beauty\",\n",
    "    \"Clothing & Outfits\": \"Fashion & Beauty\",\n",
    "    \"Accessories & Jewellery\": \"Fashion & Beauty\",\n",
    "    \"Beauty\": \"Fashion & Beauty\",\n",
    "    \"Luxury\": \"Fashion & Beauty\",\n",
    "    \"Shopping & Retail\": \"Fashion & Beauty\",\n",
    "    \n",
    "    # Education, Science & Technology\n",
    "    \"Education\": \"Education, Science & Technology\",\n",
    "    \"Science\": \"Education, Science & Technology\",\n",
    "    \"Computers & Gadgets\": \"Education, Science & Technology\",\n",
    "    \"Machinery & Technologies\": \"Education, Science & Technology\",\n",
    "    \n",
    "    # Finance\n",
    "    \"Finance & Economics\": \"Finance\",\n",
    "    \"Business & Careers\": \"Finance\",\n",
    "    \"Management & Marketing\": \"Finance\",\n",
    "}\n",
    "\n",
    "# Apply mapping to both Category_1 and Category_2\n",
    "df['Cat_1'] = df['Category_1'].map(category_mapping).fillna('None')\n",
    "df['Cat_2'] = df['Category_2'].map(category_mapping).fillna('None')\n",
    "\n",
    "# Display the updated DataFrame\n",
    "print(df[['Category_1', 'Cat_1', 'Category_2', 'Cat_2']])"
   ]
  },
  {
   "cell_type": "code",
   "execution_count": 22,
   "id": "e96a582a-3144-484e-b853-7eec279adc91",
   "metadata": {},
   "outputs": [
    {
     "data": {
      "text/html": [
       "<div>\n",
       "<style scoped>\n",
       "    .dataframe tbody tr th:only-of-type {\n",
       "        vertical-align: middle;\n",
       "    }\n",
       "\n",
       "    .dataframe tbody tr th {\n",
       "        vertical-align: top;\n",
       "    }\n",
       "\n",
       "    .dataframe thead th {\n",
       "        text-align: right;\n",
       "    }\n",
       "</style>\n",
       "<table border=\"1\" class=\"dataframe\">\n",
       "  <thead>\n",
       "    <tr style=\"text-align: right;\">\n",
       "      <th></th>\n",
       "      <th>Handle</th>\n",
       "      <th>Name</th>\n",
       "      <th>Category_1</th>\n",
       "      <th>Category_2</th>\n",
       "      <th>Followers</th>\n",
       "      <th>Audience_Country</th>\n",
       "      <th>Engagement</th>\n",
       "      <th>Engagement_Average</th>\n",
       "      <th>Cat_1</th>\n",
       "      <th>Cat_2</th>\n",
       "    </tr>\n",
       "  </thead>\n",
       "  <tbody>\n",
       "    <tr>\n",
       "      <th>388</th>\n",
       "      <td>instagram</td>\n",
       "      <td>Instagram</td>\n",
       "      <td>Photography</td>\n",
       "      <td>NaN</td>\n",
       "      <td>487200000.0</td>\n",
       "      <td>India</td>\n",
       "      <td>352300.0</td>\n",
       "      <td>467400.0</td>\n",
       "      <td>Arts, Photography &amp; Literature</td>\n",
       "      <td>None</td>\n",
       "    </tr>\n",
       "    <tr>\n",
       "      <th>203</th>\n",
       "      <td>cristiano</td>\n",
       "      <td>Cristiano Ronaldo</td>\n",
       "      <td>Sports with a ball</td>\n",
       "      <td>NaN</td>\n",
       "      <td>419600000.0</td>\n",
       "      <td>India</td>\n",
       "      <td>5700000.0</td>\n",
       "      <td>7000000.0</td>\n",
       "      <td>Sports &amp; Fitness</td>\n",
       "      <td>None</td>\n",
       "    </tr>\n",
       "    <tr>\n",
       "      <th>510</th>\n",
       "      <td>kyliejenner</td>\n",
       "      <td>Kylie 🤍</td>\n",
       "      <td>Fashion</td>\n",
       "      <td>Modeling</td>\n",
       "      <td>323300000.0</td>\n",
       "      <td>United States</td>\n",
       "      <td>7600000.0</td>\n",
       "      <td>12300000.0</td>\n",
       "      <td>Fashion &amp; Beauty</td>\n",
       "      <td>Entertainment</td>\n",
       "    </tr>\n",
       "    <tr>\n",
       "      <th>532</th>\n",
       "      <td>leomessi</td>\n",
       "      <td>Leo Messi</td>\n",
       "      <td>Sports with a ball</td>\n",
       "      <td>Family</td>\n",
       "      <td>315400000.0</td>\n",
       "      <td>Argentina</td>\n",
       "      <td>4000000.0</td>\n",
       "      <td>5300000.0</td>\n",
       "      <td>Sports &amp; Fitness</td>\n",
       "      <td>Lifestyle</td>\n",
       "    </tr>\n",
       "    <tr>\n",
       "      <th>814</th>\n",
       "      <td>selenagomez</td>\n",
       "      <td>Selena Gomez</td>\n",
       "      <td>Music</td>\n",
       "      <td>Lifestyle</td>\n",
       "      <td>308200000.0</td>\n",
       "      <td>United States</td>\n",
       "      <td>3300000.0</td>\n",
       "      <td>4400000.0</td>\n",
       "      <td>Music</td>\n",
       "      <td>Lifestyle</td>\n",
       "    </tr>\n",
       "  </tbody>\n",
       "</table>\n",
       "</div>"
      ],
      "text/plain": [
       "          Handle               Name          Category_1 Category_2  \\\n",
       "388    instagram          Instagram         Photography        NaN   \n",
       "203    cristiano  Cristiano Ronaldo  Sports with a ball        NaN   \n",
       "510  kyliejenner            Kylie 🤍             Fashion   Modeling   \n",
       "532     leomessi          Leo Messi  Sports with a ball     Family   \n",
       "814  selenagomez       Selena Gomez               Music  Lifestyle   \n",
       "\n",
       "       Followers Audience_Country  Engagement  Engagement_Average  \\\n",
       "388  487200000.0            India    352300.0            467400.0   \n",
       "203  419600000.0            India   5700000.0           7000000.0   \n",
       "510  323300000.0    United States   7600000.0          12300000.0   \n",
       "532  315400000.0        Argentina   4000000.0           5300000.0   \n",
       "814  308200000.0    United States   3300000.0           4400000.0   \n",
       "\n",
       "                              Cat_1          Cat_2  \n",
       "388  Arts, Photography & Literature           None  \n",
       "203                Sports & Fitness           None  \n",
       "510                Fashion & Beauty  Entertainment  \n",
       "532                Sports & Fitness      Lifestyle  \n",
       "814                           Music      Lifestyle  "
      ]
     },
     "execution_count": 22,
     "metadata": {},
     "output_type": "execute_result"
    }
   ],
   "source": [
    "df.head(5)"
   ]
  },
  {
   "cell_type": "markdown",
   "id": "a9a3b3da-bb26-431c-9af2-b9241a60b92f",
   "metadata": {},
   "source": [
    "## Ein-Stichproben-t-Test"
   ]
  },
  {
   "cell_type": "code",
   "execution_count": 13,
   "id": "0c3f9325-6663-4eb7-9f8a-8e2c6c5569eb",
   "metadata": {},
   "outputs": [],
   "source": [
    "# Nach 'Music' Kategorie filtern\n",
    "music_df = df[df['Category_1'] == 'Music']"
   ]
  },
  {
   "cell_type": "code",
   "execution_count": 27,
   "id": "b1a1726a-cbbd-480b-b13c-166832821813",
   "metadata": {},
   "outputs": [
    {
     "name": "stderr",
     "output_type": "stream",
     "text": [
      "C:\\ProgramData\\anaconda3\\Lib\\site-packages\\seaborn\\_oldcore.py:1119: FutureWarning: use_inf_as_na option is deprecated and will be removed in a future version. Convert inf values to NaN before operating instead.\n",
      "  with pd.option_context('mode.use_inf_as_na', True):\n",
      "No artists with labels found to put in legend.  Note that artists whose label start with an underscore are ignored when legend() is called with no argument.\n"
     ]
    },
    {
     "data": {
      "image/png": "[encoded data removed]",
      "text/plain": [
       "<Figure size 1200x600 with 1 Axes>"
      ]
     },
     "metadata": {},
     "output_type": "display_data"
    }
   ],
   "source": [
    "# Visualisierung\n",
    "plt.figure(figsize=(12, 6))\n",
    "sns.histplot(music_df['Engagement_Average'], bins=200, kde=False, color='skyblue')\n",
    "plt.xlabel('Durchschnittliches Engagement (Likes pro Beitrag)')\n",
    "plt.ylabel('Häufigkeit')\n",
    "plt.title('Histogramm der Engagement-Raten für Instagram-Accounts der Kategorie Musik')\n",
    "plt.legend()\n",
    "plt.show()"
   ]
  },
  {
   "cell_type": "code",
   "execution_count": 26,
   "id": "99d392df-3d7a-4329-89bb-063eefa96412",
   "metadata": {},
   "outputs": [
    {
     "name": "stdout",
     "output_type": "stream",
     "text": [
      "Shapiro-Wilk Teststatistik: 0.4950096011161804, p-Wert: 2.0536182985132527e-25\n",
      "Die Engagement-Daten sind nicht normalverteilt.\n"
     ]
    }
   ],
   "source": [
    "shapiro_test_stat, shapiro_p_value = shapiro(music_df['Engagement'])\n",
    "print(f\"Shapiro-Wilk Teststatistik: {shapiro_test_stat}, p-Wert: {shapiro_p_value}\")\n",
    "if shapiro_p_value > 0.05:\n",
    "    print(\"Die Engagement-Daten sind normalverteilt.\")\n",
    "else:\n",
    "    print(\"Die Engagement-Daten sind nicht normalverteilt.\")"
   ]
  },
  {
   "cell_type": "code",
   "execution_count": 14,
   "id": "75645a81-b250-4a37-ac99-7638ee26bd98",
   "metadata": {},
   "outputs": [],
   "source": [
    "# Berechnung und Test\n",
    "sample_mean = music_df['Engagement_Average'].mean()\n",
    "industry_standard = 400000  \n",
    "\n",
    "t_stat, p_value = stats.ttest_1samp(music_df['Engagement_Average'], industry_standard)"
   ]
  },
  {
   "cell_type": "code",
   "execution_count": 15,
   "id": "a5efac3a-94b0-4b86-8f0c-877b5da19538",
   "metadata": {},
   "outputs": [
    {
     "name": "stderr",
     "output_type": "stream",
     "text": [
      "C:\\ProgramData\\anaconda3\\Lib\\site-packages\\seaborn\\_oldcore.py:1119: FutureWarning: use_inf_as_na option is deprecated and will be removed in a future version. Convert inf values to NaN before operating instead.\n",
      "  with pd.option_context('mode.use_inf_as_na', True):\n"
     ]
    },
    {
     "data": {
      "image/png": "[encoded data removed]",
      "text/plain": [
       "<Figure size 1200x600 with 1 Axes>"
      ]
     },
     "metadata": {},
     "output_type": "display_data"
    }
   ],
   "source": [
    "# Visualisierung\n",
    "plt.figure(figsize=(12, 6))\n",
    "sns.histplot(music_df['Engagement_Average'], bins=200, kde=False, color='skyblue')\n",
    "plt.axvline(industry_standard, color='red', linestyle='dashed', linewidth=1.5, label='Industriestandard (400K Likes)')\n",
    "plt.axvline(sample_mean, color='green', linestyle='dashed', linewidth=1.5, label='Durchschnittliches Engagement')\n",
    "plt.xlabel('Durchschnittliches Engagement (Likes pro Beitrag)')\n",
    "plt.ylabel('Häufigkeit')\n",
    "plt.title('Histogramm der Engagement-Raten für Instagram-Accounts der Kategorie Musik')\n",
    "plt.legend()\n",
    "plt.show()"
   ]
  },
  {
   "cell_type": "code",
   "execution_count": 16,
   "id": "f4af8c72-944d-4956-9b41-82f6189a2034",
   "metadata": {},
   "outputs": [
    {
     "name": "stdout",
     "output_type": "stream",
     "text": [
      "Das durchschnittliche Engagement der Stichprobe beträgt 1066515.74 Likes.\n",
      "Teststatistik (t-Wert): 5.69, P-Wert: 0.000\n",
      "Basierend auf dem P-Wert, der unter der üblichen Signifikanzgrenze von 0.05 liegt, können wir die Nullhypothese ablehnen.\n",
      "Das bedeutet, dass das durchschnittliche Engagement signifikant vom Industriestandard abweicht.\n"
     ]
    }
   ],
   "source": [
    "# Ausgabe der Ergebnisse\n",
    "print(f\"Das durchschnittliche Engagement der Stichprobe beträgt {sample_mean:.2f} Likes.\")\n",
    "print(f\"Teststatistik (t-Wert): {t_stat:.2f}, P-Wert: {p_value:.3f}\")\n",
    "if p_value < 0.05:\n",
    "    print(\"Basierend auf dem P-Wert, der unter der üblichen Signifikanzgrenze von 0.05 liegt, können wir die Nullhypothese ablehnen.\")\n",
    "    print(\"Das bedeutet, dass das durchschnittliche Engagement signifikant vom Industriestandard abweicht.\")\n",
    "else:\n",
    "    print(\"Basierend auf dem P-Wert, der über der üblichen Signifikanzgrenze von 0.05 liegt, gibt es keine ausreichenden Beweise, um die Nullhypothese abzulehnen.\")\n",
    "    print(\"Das bedeutet, dass das durchschnittliche Engagement nicht signifikant vom Industriestandard abweicht.\")"
   ]
  },
  {
   "cell_type": "markdown",
   "id": "680ed858-724d-4ecd-aaf9-6499cfec470b",
   "metadata": {},
   "source": [
    "## Nicht-parametrisch: Wilcoxon Test"
   ]
  },
  {
   "cell_type": "code",
   "execution_count": 30,
   "id": "d5e9dab4-da75-4280-874e-8074fbb2d7af",
   "metadata": {},
   "outputs": [
    {
     "name": "stdout",
     "output_type": "stream",
     "text": [
      "Teststatistik (Wilcoxon-Wert): 5745.00, P-Wert: 0.000\n",
      "Basierend auf dem P-Wert, der unter der üblichen Signifikanzgrenze von 0.05 liegt, können wir die Nullhypothese ablehnen.\n",
      "Das durchschnittliche Engagement weicht signifikant vom Industriestandard ab.\n"
     ]
    }
   ],
   "source": [
    "sample_engagement = music_df['Engagement_Average']\n",
    "\n",
    "# Differenz zwischen Engagement-Daten und Industriestandard berechnen\n",
    "differences = [x - industry_standard for x in sample_engagement]\n",
    "\n",
    "# Wilcoxon-Test durchführen\n",
    "# Nur für paarweise Vergleiche geeignet, daher prüft man die Differenzen gegen 0\n",
    "test_stat, p_value = wilcoxon(differences)\n",
    "\n",
    "# Ergebnisse ausgeben\n",
    "print(f\"Teststatistik (Wilcoxon-Wert): {test_stat:.2f}, P-Wert: {p_value:.3f}\")\n",
    "if p_value < 0.05:\n",
    "    print(\"Basierend auf dem P-Wert, der unter der üblichen Signifikanzgrenze von 0.05 liegt, können wir die Nullhypothese ablehnen.\")\n",
    "    print(\"Das durchschnittliche Engagement weicht signifikant vom Industriestandard ab.\")\n",
    "else:\n",
    "    print(\"Basierend auf dem P-Wert, der über der üblichen Signifikanzgrenze von 0.05 liegt, gibt es keine ausreichenden Beweise, um die Nullhypothese abzulehnen.\")\n",
    "    print(\"Das durchschnittliche Engagement entspricht dem Industriestandard.\")"
   ]
  },
  {
   "cell_type": "code",
   "execution_count": null,
   "id": "c2dea73b-c200-4f76-ace6-3123bb520aba",
   "metadata": {},
   "outputs": [],
   "source": []
  },
  {
   "cell_type": "markdown",
   "id": "a7fcd427-778e-414d-9052-39c73bd60191",
   "metadata": {},
   "source": [
    "## t-Test für unabhängige Stichproben"
   ]
  },
  {
   "cell_type": "code",
   "execution_count": 17,
   "id": "b0a6ef66-64f0-40fb-bd66-1f87c62ea548",
   "metadata": {},
   "outputs": [],
   "source": [
    "# Daten für die Kategorie \"Sports & Fitness\"\n",
    "sports_fitness = df[df['Cat_1'] == 'Sports & Fitness']['Engagement_Average']\n",
    "\n",
    "# Daten für die Kategorie \"Fashion & Beauty\"\n",
    "fashion_beauty = df[df['Cat_1'] == 'Fashion & Beauty']['Engagement_Average']"
   ]
  },
  {
   "cell_type": "code",
   "execution_count": 18,
   "id": "ddbb1161-2c1d-440d-b1c4-4717c7954c5d",
   "metadata": {},
   "outputs": [],
   "source": [
    "sf_mean = sports_fitness.mean().round(2)\n",
    "fb_mean = fashion_beauty.mean().round(2)"
   ]
  },
  {
   "cell_type": "code",
   "execution_count": 19,
   "id": "a818fca8-0301-40b7-8051-55cb1bdb18a9",
   "metadata": {},
   "outputs": [],
   "source": [
    "t_stat, p_value = stats.ttest_ind(sports_fitness, fashion_beauty, equal_var=False)"
   ]
  },
  {
   "cell_type": "code",
   "execution_count": 20,
   "id": "5263d680-74e1-4d8c-84c7-64f292a2cd57",
   "metadata": {},
   "outputs": [
    {
     "name": "stdout",
     "output_type": "stream",
     "text": [
      "Durchschnittliches Engagement für 'Sports & Fitness': 633165.19 Likes\n",
      "Durchschnittliches Engagement für 'Fashion & Beauty': 862761.36 Likes\n",
      "t-Statistik: -0.7971377436758892\n",
      "p-Wert: 0.42916593165500705\n",
      "Es gibt keinen signifikanten Unterschied im Engagement zwischen 'Sports & Fitness' und 'Fashion & Beauty'.\n"
     ]
    }
   ],
   "source": [
    "# Ausgabe der durchschnittlichen Engagement-Werte\n",
    "print(\"Durchschnittliches Engagement für 'Sports & Fitness':\", sf_mean, \"Likes\")\n",
    "print(\"Durchschnittliches Engagement für 'Fashion & Beauty':\", fb_mean, \"Likes\")\n",
    "\n",
    "print(\"t-Statistik:\", t_stat)\n",
    "print(\"p-Wert:\", p_value)\n",
    "\n",
    "if p_value < 0.05:\n",
    "    print(\"Es gibt einen signifikanten Unterschied im Engagement zwischen 'Sports & Fitness' und 'Fashion & Beauty'.\")\n",
    "else:\n",
    "    print(\"Es gibt keinen signifikanten Unterschied im Engagement zwischen 'Sports & Fitness' und 'Fashion & Beauty'.\")\n"
   ]
  },
  {
   "cell_type": "code",
   "execution_count": 21,
   "id": "505f0b3f-92cd-44b7-a75b-4d0ae4ebff12",
   "metadata": {},
   "outputs": [
    {
     "name": "stderr",
     "output_type": "stream",
     "text": [
      "C:\\ProgramData\\anaconda3\\Lib\\site-packages\\seaborn\\_oldcore.py:1119: FutureWarning: use_inf_as_na option is deprecated and will be removed in a future version. Convert inf values to NaN before operating instead.\n",
      "  with pd.option_context('mode.use_inf_as_na', True):\n",
      "C:\\ProgramData\\anaconda3\\Lib\\site-packages\\seaborn\\_oldcore.py:1119: FutureWarning: use_inf_as_na option is deprecated and will be removed in a future version. Convert inf values to NaN before operating instead.\n",
      "  with pd.option_context('mode.use_inf_as_na', True):\n"
     ]
    },
    {
     "data": {
      "image/png": "[encoded data removed]",
      "text/plain": [
       "<Figure size 1200x600 with 1 Axes>"
      ]
     },
     "metadata": {},
     "output_type": "display_data"
    }
   ],
   "source": [
    "plt.figure(figsize=(12, 6))\n",
    "\n",
    "# Histogramm für \"Sports & Fitness\"\n",
    "sns.histplot(sports_fitness, color='blue', label='Sports & Fitness', bins=100, kde=False)\n",
    "\n",
    "# Histogramm für \"Fashion & Beauty\"\n",
    "sns.histplot(fashion_beauty, color='green', label='Fashion & Beauty', bins=100, kde=False)\n",
    "plt.axvline(sf_mean, color='navy', linestyle='dashed', linewidth=2, label='Mittelwert Sports & Fitness')\n",
    "plt.axvline(fb_mean, color='darkgreen', linestyle='dashed', linewidth=2, label='Mittelwert Fashion & Beauty')\n",
    "plt.xlabel('Durchschnittliches Engagement (Likes pro Beitrag)')\n",
    "plt.ylabel('Häufigkeit')\n",
    "plt.title('Vergleich der Engagement-Raten für \"Sports & Fitness\" und \"Fashion & Beauty\"')\n",
    "plt.legend(title='Kategorie')\n",
    "plt.show()"
   ]
  },
  {
   "cell_type": "markdown",
   "id": "9a072eca-25c4-4e6f-9397-5d1be944962b",
   "metadata": {},
   "source": [
    "## Chi-Quadrat-Test auf Unabhängigkeit"
   ]
  },
  {
   "cell_type": "code",
   "execution_count": 90,
   "id": "92c6523d-0e26-4504-aa15-9ef4a379a84d",
   "metadata": {},
   "outputs": [],
   "source": [
    "# Filtere den DataFrame nach den gewünschten Ländern\n",
    "filtered_df = df[df['Audience_Country'].isin(['United States', 'India', 'Brazil'])]"
   ]
  },
  {
   "cell_type": "code",
   "execution_count": 91,
   "id": "c53d790e-1840-4893-b594-af1c5f759117",
   "metadata": {},
   "outputs": [
    {
     "name": "stdout",
     "output_type": "stream",
     "text": [
      "Audience_Country                 Brazil  India  United States\n",
      "Cat_1                                                        \n",
      "Adult Content                         1      1              3\n",
      "Arts, Photography & Literature        4      3              5\n",
      "Education, Science & Technology       0      3              6\n",
      "Entertainment                        56     79             83\n",
      "Fashion & Beauty                      6      9             15\n",
      "Finance                               2      2              2\n",
      "Lifestyle                            18     12             30\n",
      "Music                                36     14             82\n",
      "Nature                                0      1              3\n",
      "None                                 12      7             24\n",
      "Sports & Fitness                     17     18             26\n"
     ]
    }
   ],
   "source": [
    "# Erstelle eine Kreuztabelle\n",
    "contingency_table = pd.crosstab(filtered_df['Cat_1'], filtered_df['Audience_Country'])\n",
    "print(contingency_table)"
   ]
  },
  {
   "cell_type": "code",
   "execution_count": 92,
   "id": "5c619a6d-1651-4f41-8961-c70b402885d7",
   "metadata": {},
   "outputs": [
    {
     "name": "stdout",
     "output_type": "stream",
     "text": [
      "Chi-Quadrat Statistik: 41.83270318670904\n",
      "p-Wert: 0.00290777939184064\n"
     ]
    }
   ],
   "source": [
    "from scipy.stats import chi2_contingency\n",
    "\n",
    "# Führe den Chi-Quadrat-Test durch\n",
    "chi2, p_value, dof, expected = chi2_contingency(contingency_table)\n",
    "\n",
    "print(\"Chi-Quadrat Statistik:\", chi2)\n",
    "print(\"p-Wert:\", p_value)\n"
   ]
  },
  {
   "cell_type": "code",
   "execution_count": null,
   "id": "931c17e8-31fd-4ef1-9c87-e0e203b4caef",
   "metadata": {},
   "outputs": [],
   "source": []
  },
  {
   "cell_type": "code",
   "execution_count": null,
   "id": "e1a55733-5ce8-4da3-98c7-ff8fe95e66f5",
   "metadata": {},
   "outputs": [],
   "source": []
  }
 ],
 "metadata": {
  "kernelspec": {
   "display_name": "Python 3 (ipykernel)",
   "language": "python",
   "name": "python3"
  },
  "language_info": {
   "codemirror_mode": {
    "name": "ipython",
    "version": 3
   },
   "file_extension": ".py",
   "mimetype": "text/x-python",
   "name": "python",
   "nbconvert_exporter": "python",
   "pygments_lexer": "ipython3",
   "version": "3.11.7"
  }
 },
 "nbformat": 4,
 "nbformat_minor": 5
}
