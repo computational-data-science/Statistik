{
 "cells": [
  {
   "cell_type": "code",
   "execution_count": 55,
   "id": "0fc58576-a90f-47f2-b280-967021456c59",
   "metadata": {},
   "outputs": [],
   "source": [
    "import pandas as pd\n",
    "import numpy as np"
   ]
  },
  {
   "cell_type": "code",
   "execution_count": 56,
   "id": "84b12ab7-46c6-4b51-8db0-dfa4747414a2",
   "metadata": {},
   "outputs": [],
   "source": [
    "# Lesen der CSV-Datei\n",
    "df = pd.read_csv('Statistikkurs.csv')"
   ]
  },
  {
   "cell_type": "code",
   "execution_count": 57,
   "id": "49abc88f-9206-4c86-94f9-b856a4ffdfd3",
   "metadata": {},
   "outputs": [
    {
     "data": {
      "text/html": [
       "<div>\n",
       "<style scoped>\n",
       "    .dataframe tbody tr th:only-of-type {\n",
       "        vertical-align: middle;\n",
       "    }\n",
       "\n",
       "    .dataframe tbody tr th {\n",
       "        vertical-align: top;\n",
       "    }\n",
       "\n",
       "    .dataframe thead th {\n",
       "        text-align: right;\n",
       "    }\n",
       "</style>\n",
       "<table border=\"1\" class=\"dataframe\">\n",
       "  <thead>\n",
       "    <tr style=\"text-align: right;\">\n",
       "      <th></th>\n",
       "      <th>Timestamp</th>\n",
       "      <th>Geburtsjahr (z.B. 2003)</th>\n",
       "      <th>Größe (in cm)</th>\n",
       "      <th>Augenfarbe</th>\n",
       "      <th>Schulabschluss in ... (Name Bundesland oder Land)</th>\n",
       "      <th>Wohnsituation</th>\n",
       "      <th>Weg zur Hochschule (in min)</th>\n",
       "    </tr>\n",
       "  </thead>\n",
       "  <tbody>\n",
       "    <tr>\n",
       "      <th>0</th>\n",
       "      <td>10/15/2024 10:33:24</td>\n",
       "      <td>2005</td>\n",
       "      <td>163</td>\n",
       "      <td>Braun</td>\n",
       "      <td>Abitur in Bayern</td>\n",
       "      <td>Studi-Wohnheim</td>\n",
       "      <td>9</td>\n",
       "    </tr>\n",
       "    <tr>\n",
       "      <th>1</th>\n",
       "      <td>10/15/2024 10:33:33</td>\n",
       "      <td>1987</td>\n",
       "      <td>183,5</td>\n",
       "      <td>Braun</td>\n",
       "      <td>NRW</td>\n",
       "      <td>Bei Familie</td>\n",
       "      <td>75</td>\n",
       "    </tr>\n",
       "    <tr>\n",
       "      <th>2</th>\n",
       "      <td>10/15/2024 10:33:34</td>\n",
       "      <td>2003</td>\n",
       "      <td>176</td>\n",
       "      <td>Braun</td>\n",
       "      <td>Bayern</td>\n",
       "      <td>Bei Familie</td>\n",
       "      <td>15-20min</td>\n",
       "    </tr>\n",
       "    <tr>\n",
       "      <th>3</th>\n",
       "      <td>10/15/2024 10:33:36</td>\n",
       "      <td>2004</td>\n",
       "      <td>183</td>\n",
       "      <td>Blau</td>\n",
       "      <td>Hessen</td>\n",
       "      <td>Eigene Wohnung</td>\n",
       "      <td>5</td>\n",
       "    </tr>\n",
       "    <tr>\n",
       "      <th>4</th>\n",
       "      <td>10/15/2024 10:33:42</td>\n",
       "      <td>2005</td>\n",
       "      <td>173</td>\n",
       "      <td>Braun</td>\n",
       "      <td>Hessen</td>\n",
       "      <td>Studi-Wohnheim</td>\n",
       "      <td>6 min</td>\n",
       "    </tr>\n",
       "  </tbody>\n",
       "</table>\n",
       "</div>"
      ],
      "text/plain": [
       "             Timestamp  Geburtsjahr (z.B. 2003) Größe (in cm) Augenfarbe  \\\n",
       "0  10/15/2024 10:33:24                     2005           163      Braun   \n",
       "1  10/15/2024 10:33:33                     1987         183,5      Braun   \n",
       "2  10/15/2024 10:33:34                     2003           176      Braun   \n",
       "3  10/15/2024 10:33:36                     2004           183       Blau   \n",
       "4  10/15/2024 10:33:42                     2005           173      Braun   \n",
       "\n",
       "  Schulabschluss in ... (Name Bundesland oder Land)   Wohnsituation  \\\n",
       "0                                  Abitur in Bayern  Studi-Wohnheim   \n",
       "1                                              NRW      Bei Familie   \n",
       "2                                            Bayern     Bei Familie   \n",
       "3                                            Hessen  Eigene Wohnung   \n",
       "4                                            Hessen  Studi-Wohnheim   \n",
       "\n",
       "  Weg zur Hochschule (in min)  \n",
       "0                           9  \n",
       "1                          75  \n",
       "2                    15-20min  \n",
       "3                           5  \n",
       "4                       6 min  "
      ]
     },
     "execution_count": 57,
     "metadata": {},
     "output_type": "execute_result"
    }
   ],
   "source": [
    "# Anzeige der ersten fünf Zeilen des DataFrame\n",
    "df.head()"
   ]
  },
  {
   "cell_type": "code",
   "execution_count": 58,
   "id": "4525d3d9-8925-40c2-96e3-7236e67cd245",
   "metadata": {},
   "outputs": [],
   "source": [
    "# Benennen Sie die Spalten der Übersichtlichkeit halber um\n",
    "df.columns = ['Timestamp', 'Geburtsjahr', 'Groesse_cm', 'Augenfarbe', 'Schulabschluss_Bundesland', 'Wohnsituation', 'Weg_zur_Hochschule_min']"
   ]
  },
  {
   "cell_type": "code",
   "execution_count": 59,
   "id": "60cf7a75-e12d-4e83-b602-a4708031a2dd",
   "metadata": {},
   "outputs": [],
   "source": [
    "# Bereinigung der Spalte \"Groesse_cm\" durch Umwandlung von Stringwerten in numerische Werte\n",
    "df['Groesse_cm'] = df['Groesse_cm'].replace(['1,80', '1, 83', '1,68', '1.63', '183,5'], [180, 183, 168, 163, 183.5])\n",
    "df['Weg_zur_Hochschule_min'] = df['Weg_zur_Hochschule_min'].replace({\n",
    "    '15-20min': 17.5,\n",
    "    '6 min': 6,\n",
    "    '15min': 15,\n",
    "    '10 min': 10,\n",
    "    '7 min (Fahrrad)': 7,\n",
    "    '12 (zu Fuß)': 12,\n",
    "    'Bus': np.nan\n",
    "})"
   ]
  },
  {
   "cell_type": "code",
   "execution_count": 60,
   "id": "294d67f7-131f-4507-a86c-5f274dacda52",
   "metadata": {},
   "outputs": [
    {
     "data": {
      "text/html": [
       "<div>\n",
       "<style scoped>\n",
       "    .dataframe tbody tr th:only-of-type {\n",
       "        vertical-align: middle;\n",
       "    }\n",
       "\n",
       "    .dataframe tbody tr th {\n",
       "        vertical-align: top;\n",
       "    }\n",
       "\n",
       "    .dataframe thead th {\n",
       "        text-align: right;\n",
       "    }\n",
       "</style>\n",
       "<table border=\"1\" class=\"dataframe\">\n",
       "  <thead>\n",
       "    <tr style=\"text-align: right;\">\n",
       "      <th></th>\n",
       "      <th>Timestamp</th>\n",
       "      <th>Geburtsjahr</th>\n",
       "      <th>Groesse_cm</th>\n",
       "      <th>Augenfarbe</th>\n",
       "      <th>Schulabschluss_Bundesland</th>\n",
       "      <th>Wohnsituation</th>\n",
       "      <th>Weg_zur_Hochschule_min</th>\n",
       "    </tr>\n",
       "  </thead>\n",
       "  <tbody>\n",
       "    <tr>\n",
       "      <th>0</th>\n",
       "      <td>10/15/2024 10:33:24</td>\n",
       "      <td>2005</td>\n",
       "      <td>163</td>\n",
       "      <td>Braun</td>\n",
       "      <td>Abitur in Bayern</td>\n",
       "      <td>Studi-Wohnheim</td>\n",
       "      <td>9</td>\n",
       "    </tr>\n",
       "    <tr>\n",
       "      <th>1</th>\n",
       "      <td>10/15/2024 10:33:33</td>\n",
       "      <td>1987</td>\n",
       "      <td>183.5</td>\n",
       "      <td>Braun</td>\n",
       "      <td>NRW</td>\n",
       "      <td>Bei Familie</td>\n",
       "      <td>75</td>\n",
       "    </tr>\n",
       "    <tr>\n",
       "      <th>2</th>\n",
       "      <td>10/15/2024 10:33:34</td>\n",
       "      <td>2003</td>\n",
       "      <td>176</td>\n",
       "      <td>Braun</td>\n",
       "      <td>Bayern</td>\n",
       "      <td>Bei Familie</td>\n",
       "      <td>17.5</td>\n",
       "    </tr>\n",
       "    <tr>\n",
       "      <th>3</th>\n",
       "      <td>10/15/2024 10:33:36</td>\n",
       "      <td>2004</td>\n",
       "      <td>183</td>\n",
       "      <td>Blau</td>\n",
       "      <td>Hessen</td>\n",
       "      <td>Eigene Wohnung</td>\n",
       "      <td>5</td>\n",
       "    </tr>\n",
       "    <tr>\n",
       "      <th>4</th>\n",
       "      <td>10/15/2024 10:33:42</td>\n",
       "      <td>2005</td>\n",
       "      <td>173</td>\n",
       "      <td>Braun</td>\n",
       "      <td>Hessen</td>\n",
       "      <td>Studi-Wohnheim</td>\n",
       "      <td>6</td>\n",
       "    </tr>\n",
       "  </tbody>\n",
       "</table>\n",
       "</div>"
      ],
      "text/plain": [
       "             Timestamp  Geburtsjahr Groesse_cm Augenfarbe  \\\n",
       "0  10/15/2024 10:33:24         2005        163      Braun   \n",
       "1  10/15/2024 10:33:33         1987      183.5      Braun   \n",
       "2  10/15/2024 10:33:34         2003        176      Braun   \n",
       "3  10/15/2024 10:33:36         2004        183       Blau   \n",
       "4  10/15/2024 10:33:42         2005        173      Braun   \n",
       "\n",
       "  Schulabschluss_Bundesland   Wohnsituation Weg_zur_Hochschule_min  \n",
       "0          Abitur in Bayern  Studi-Wohnheim                      9  \n",
       "1                      NRW      Bei Familie                     75  \n",
       "2                    Bayern     Bei Familie                   17.5  \n",
       "3                    Hessen  Eigene Wohnung                      5  \n",
       "4                    Hessen  Studi-Wohnheim                      6  "
      ]
     },
     "execution_count": 60,
     "metadata": {},
     "output_type": "execute_result"
    }
   ],
   "source": [
    "df.head()"
   ]
  },
  {
   "cell_type": "code",
   "execution_count": 64,
   "id": "bc886ef3-ab2c-47b9-86f5-de575ab0fdb3",
   "metadata": {},
   "outputs": [
    {
     "name": "stdout",
     "output_type": "stream",
     "text": [
      "<class 'pandas.core.frame.DataFrame'>\n",
      "RangeIndex: 17 entries, 0 to 16\n",
      "Data columns (total 7 columns):\n",
      " #   Column                     Non-Null Count  Dtype  \n",
      "---  ------                     --------------  -----  \n",
      " 0   Timestamp                  17 non-null     object \n",
      " 1   Geburtsjahr                17 non-null     int64  \n",
      " 2   Groesse_cm                 17 non-null     float64\n",
      " 3   Augenfarbe                 17 non-null     object \n",
      " 4   Schulabschluss_Bundesland  17 non-null     object \n",
      " 5   Wohnsituation              17 non-null     object \n",
      " 6   Weg_zur_Hochschule_min     13 non-null     float64\n",
      "dtypes: float64(2), int64(1), object(4)\n",
      "memory usage: 1.1+ KB\n"
     ]
    }
   ],
   "source": [
    "df.info()"
   ]
  },
  {
   "cell_type": "code",
   "execution_count": 62,
   "id": "9319de52-9f5c-4b9f-b6fa-43ccde434ba0",
   "metadata": {},
   "outputs": [],
   "source": [
    "# Relevante Spalten in numerische Werte umwandeln\n",
    "df['Geburtsjahr'] = pd.to_numeric(df['Geburtsjahr'], errors='coerce')\n",
    "df['Groesse_cm'] = pd.to_numeric(df['Groesse_cm'], errors='coerce')\n",
    "df['Weg_zur_Hochschule_min'] = pd.to_numeric(df['Weg_zur_Hochschule_min'], errors='coerce')"
   ]
  },
  {
   "cell_type": "code",
   "execution_count": 63,
   "id": "2da687f9-4d6f-4475-9dd9-d71245205bc3",
   "metadata": {},
   "outputs": [
    {
     "data": {
      "text/html": [
       "<div>\n",
       "<style scoped>\n",
       "    .dataframe tbody tr th:only-of-type {\n",
       "        vertical-align: middle;\n",
       "    }\n",
       "\n",
       "    .dataframe tbody tr th {\n",
       "        vertical-align: top;\n",
       "    }\n",
       "\n",
       "    .dataframe thead th {\n",
       "        text-align: right;\n",
       "    }\n",
       "</style>\n",
       "<table border=\"1\" class=\"dataframe\">\n",
       "  <thead>\n",
       "    <tr style=\"text-align: right;\">\n",
       "      <th></th>\n",
       "      <th>Timestamp</th>\n",
       "      <th>Geburtsjahr</th>\n",
       "      <th>Groesse_cm</th>\n",
       "      <th>Augenfarbe</th>\n",
       "      <th>Schulabschluss_Bundesland</th>\n",
       "      <th>Wohnsituation</th>\n",
       "      <th>Weg_zur_Hochschule_min</th>\n",
       "    </tr>\n",
       "  </thead>\n",
       "  <tbody>\n",
       "    <tr>\n",
       "      <th>0</th>\n",
       "      <td>10/15/2024 10:33:24</td>\n",
       "      <td>2005</td>\n",
       "      <td>163.0</td>\n",
       "      <td>Braun</td>\n",
       "      <td>Abitur in Bayern</td>\n",
       "      <td>Studi-Wohnheim</td>\n",
       "      <td>9.0</td>\n",
       "    </tr>\n",
       "    <tr>\n",
       "      <th>1</th>\n",
       "      <td>10/15/2024 10:33:33</td>\n",
       "      <td>1987</td>\n",
       "      <td>183.5</td>\n",
       "      <td>Braun</td>\n",
       "      <td>NRW</td>\n",
       "      <td>Bei Familie</td>\n",
       "      <td>75.0</td>\n",
       "    </tr>\n",
       "    <tr>\n",
       "      <th>2</th>\n",
       "      <td>10/15/2024 10:33:34</td>\n",
       "      <td>2003</td>\n",
       "      <td>176.0</td>\n",
       "      <td>Braun</td>\n",
       "      <td>Bayern</td>\n",
       "      <td>Bei Familie</td>\n",
       "      <td>17.5</td>\n",
       "    </tr>\n",
       "    <tr>\n",
       "      <th>3</th>\n",
       "      <td>10/15/2024 10:33:36</td>\n",
       "      <td>2004</td>\n",
       "      <td>183.0</td>\n",
       "      <td>Blau</td>\n",
       "      <td>Hessen</td>\n",
       "      <td>Eigene Wohnung</td>\n",
       "      <td>5.0</td>\n",
       "    </tr>\n",
       "    <tr>\n",
       "      <th>4</th>\n",
       "      <td>10/15/2024 10:33:42</td>\n",
       "      <td>2005</td>\n",
       "      <td>173.0</td>\n",
       "      <td>Braun</td>\n",
       "      <td>Hessen</td>\n",
       "      <td>Studi-Wohnheim</td>\n",
       "      <td>6.0</td>\n",
       "    </tr>\n",
       "  </tbody>\n",
       "</table>\n",
       "</div>"
      ],
      "text/plain": [
       "             Timestamp  Geburtsjahr  Groesse_cm Augenfarbe  \\\n",
       "0  10/15/2024 10:33:24         2005       163.0      Braun   \n",
       "1  10/15/2024 10:33:33         1987       183.5      Braun   \n",
       "2  10/15/2024 10:33:34         2003       176.0      Braun   \n",
       "3  10/15/2024 10:33:36         2004       183.0       Blau   \n",
       "4  10/15/2024 10:33:42         2005       173.0      Braun   \n",
       "\n",
       "  Schulabschluss_Bundesland   Wohnsituation  Weg_zur_Hochschule_min  \n",
       "0          Abitur in Bayern  Studi-Wohnheim                     9.0  \n",
       "1                      NRW      Bei Familie                    75.0  \n",
       "2                    Bayern     Bei Familie                    17.5  \n",
       "3                    Hessen  Eigene Wohnung                     5.0  \n",
       "4                    Hessen  Studi-Wohnheim                     6.0  "
      ]
     },
     "execution_count": 63,
     "metadata": {},
     "output_type": "execute_result"
    }
   ],
   "source": [
    "df.head()"
   ]
  },
  {
   "cell_type": "code",
   "execution_count": 65,
   "id": "34d42e74-4dfa-447f-8b47-b746ae1fcbda",
   "metadata": {},
   "outputs": [
    {
     "data": {
      "text/html": [
       "<div>\n",
       "<style scoped>\n",
       "    .dataframe tbody tr th:only-of-type {\n",
       "        vertical-align: middle;\n",
       "    }\n",
       "\n",
       "    .dataframe tbody tr th {\n",
       "        vertical-align: top;\n",
       "    }\n",
       "\n",
       "    .dataframe thead th {\n",
       "        text-align: right;\n",
       "    }\n",
       "</style>\n",
       "<table border=\"1\" class=\"dataframe\">\n",
       "  <thead>\n",
       "    <tr style=\"text-align: right;\">\n",
       "      <th></th>\n",
       "      <th>Geburtsjahr</th>\n",
       "      <th>Groesse_cm</th>\n",
       "      <th>Weg_zur_Hochschule_min</th>\n",
       "    </tr>\n",
       "  </thead>\n",
       "  <tbody>\n",
       "    <tr>\n",
       "      <th>count</th>\n",
       "      <td>17.000000</td>\n",
       "      <td>17.000000</td>\n",
       "      <td>13.000000</td>\n",
       "    </tr>\n",
       "    <tr>\n",
       "      <th>mean</th>\n",
       "      <td>2002.588235</td>\n",
       "      <td>176.735294</td>\n",
       "      <td>24.730769</td>\n",
       "    </tr>\n",
       "    <tr>\n",
       "      <th>std</th>\n",
       "      <td>4.744191</td>\n",
       "      <td>9.447416</td>\n",
       "      <td>25.385868</td>\n",
       "    </tr>\n",
       "    <tr>\n",
       "      <th>min</th>\n",
       "      <td>1987.000000</td>\n",
       "      <td>162.000000</td>\n",
       "      <td>3.000000</td>\n",
       "    </tr>\n",
       "    <tr>\n",
       "      <th>25%</th>\n",
       "      <td>2002.000000</td>\n",
       "      <td>168.000000</td>\n",
       "      <td>7.000000</td>\n",
       "    </tr>\n",
       "    <tr>\n",
       "      <th>50%</th>\n",
       "      <td>2005.000000</td>\n",
       "      <td>180.000000</td>\n",
       "      <td>17.500000</td>\n",
       "    </tr>\n",
       "    <tr>\n",
       "      <th>75%</th>\n",
       "      <td>2005.000000</td>\n",
       "      <td>183.000000</td>\n",
       "      <td>30.000000</td>\n",
       "    </tr>\n",
       "    <tr>\n",
       "      <th>max</th>\n",
       "      <td>2006.000000</td>\n",
       "      <td>190.000000</td>\n",
       "      <td>80.000000</td>\n",
       "    </tr>\n",
       "  </tbody>\n",
       "</table>\n",
       "</div>"
      ],
      "text/plain": [
       "       Geburtsjahr  Groesse_cm  Weg_zur_Hochschule_min\n",
       "count    17.000000   17.000000               13.000000\n",
       "mean   2002.588235  176.735294               24.730769\n",
       "std       4.744191    9.447416               25.385868\n",
       "min    1987.000000  162.000000                3.000000\n",
       "25%    2002.000000  168.000000                7.000000\n",
       "50%    2005.000000  180.000000               17.500000\n",
       "75%    2005.000000  183.000000               30.000000\n",
       "max    2006.000000  190.000000               80.000000"
      ]
     },
     "execution_count": 65,
     "metadata": {},
     "output_type": "execute_result"
    }
   ],
   "source": [
    "# Display basic descriptive statistics for numerical columns\n",
    "df.describe()"
   ]
  },
  {
   "cell_type": "code",
   "execution_count": 66,
   "id": "97e3a516-c1f0-4878-aa06-13d2d51565a7",
   "metadata": {},
   "outputs": [
    {
     "data": {
      "text/plain": [
       "Augenfarbe\n",
       "Braun    7\n",
       "Blau     6\n",
       "Grün     4\n",
       "Name: count, dtype: int64"
      ]
     },
     "execution_count": 66,
     "metadata": {},
     "output_type": "execute_result"
    }
   ],
   "source": [
    "# Frequency counts for categorical variables\n",
    "df['Augenfarbe'].value_counts()"
   ]
  },
  {
   "cell_type": "code",
   "execution_count": 67,
   "id": "362a1109-6ac2-4809-915e-472a233e98c3",
   "metadata": {},
   "outputs": [
    {
     "data": {
      "text/plain": [
       "Wohnsituation\n",
       "Studi-Wohnheim    7\n",
       "Bei Familie       4\n",
       "Eigene Wohnung    4\n",
       "WG                2\n",
       "Name: count, dtype: int64"
      ]
     },
     "execution_count": 67,
     "metadata": {},
     "output_type": "execute_result"
    }
   ],
   "source": [
    "df['Wohnsituation'].value_counts()"
   ]
  },
  {
   "cell_type": "code",
   "execution_count": 70,
   "id": "789c7ff0-3901-4a21-b72f-9ca717378034",
   "metadata": {},
   "outputs": [
    {
     "data": {
      "text/plain": [
       "0    Braun\n",
       "Name: Augenfarbe, dtype: object"
      ]
     },
     "execution_count": 70,
     "metadata": {},
     "output_type": "execute_result"
    }
   ],
   "source": [
    "# Mode of columns\n",
    "df['Augenfarbe'].mode()"
   ]
  },
  {
   "cell_type": "code",
   "execution_count": 71,
   "id": "0e1cd59a-0721-499c-91e7-693a7349b786",
   "metadata": {},
   "outputs": [
    {
     "name": "stdout",
     "output_type": "stream",
     "text": [
      "Range der Groesse_cm: 28.0\n"
     ]
    }
   ],
   "source": [
    "# Range for 'Groesse_cm'\n",
    "range_größe = df['Groesse_cm'].max() - df['Groesse_cm'].min()\n",
    "print(f'Range der Groesse_cm: {range_größe}')"
   ]
  },
  {
   "cell_type": "code",
   "execution_count": 73,
   "id": "17408c0a-e17d-4485-b611-9b78ae023cdf",
   "metadata": {},
   "outputs": [
    {
     "data": {
      "image/png": "[encoded data removed]",
      "text/plain": [
       "<Figure size 640x480 with 1 Axes>"
      ]
     },
     "metadata": {},
     "output_type": "display_data"
    }
   ],
   "source": [
    "import matplotlib.pyplot as plt\n",
    "\n",
    "# Histogram for 'Größe (in cm)'\n",
    "df['Groesse_cm'].hist(bins=10)\n",
    "plt.title('Distribution of Größe (in cm)')\n",
    "plt.xlabel('Größe (in cm)')\n",
    "plt.ylabel('Frequency')\n",
    "plt.show()"
   ]
  },
  {
   "cell_type": "code",
   "execution_count": 75,
   "id": "176741af-71dc-44b8-b9c6-ea191fdc7887",
   "metadata": {},
   "outputs": [
    {
     "data": {
      "image/png": "[encoded data removed]",
      "text/plain": [
       "<Figure size 640x480 with 1 Axes>"
      ]
     },
     "metadata": {},
     "output_type": "display_data"
    }
   ],
   "source": [
    "# Bar plot for 'Augenfarbe'\n",
    "df['Augenfarbe'].value_counts().plot(kind='bar')\n",
    "plt.title('Häufigkeiten der Augenfarbe')\n",
    "plt.xlabel('Augenfarbe')\n",
    "plt.ylabel('Count')\n",
    "plt.show()\n"
   ]
  },
  {
   "cell_type": "code",
   "execution_count": 76,
   "id": "dad87114-9148-4a68-985b-a5c76e6ead3c",
   "metadata": {},
   "outputs": [
    {
     "data": {
      "image/png": "[encoded data removed]",
      "text/plain": [
       "<Figure size 640x480 with 1 Axes>"
      ]
     },
     "metadata": {},
     "output_type": "display_data"
    }
   ],
   "source": [
    "# Box plot for 'Groesse_cm'\n",
    "df.boxplot(column='Groesse_cm')\n",
    "plt.title('Box Plot of Größe (in cm)')\n",
    "plt.ylabel('Größe (in cm)')\n",
    "plt.show()\n"
   ]
  },
  {
   "cell_type": "code",
   "execution_count": 77,
   "id": "426b2fef-3288-4358-9e29-1dce70b759c0",
   "metadata": {},
   "outputs": [
    {
     "data": {
      "image/png": "[encoded data removed]",
      "text/plain": [
       "<Figure size 640x480 with 1 Axes>"
      ]
     },
     "metadata": {},
     "output_type": "display_data"
    }
   ],
   "source": [
    "# Pie chart for 'Wohnsituation'\n",
    "df['Wohnsituation'].value_counts().plot(kind='pie', autopct='%1.1f%%')\n",
    "plt.title('Proportion of Wohnsituation')\n",
    "plt.ylabel('')\n",
    "plt.show()\n"
   ]
  },
  {
   "cell_type": "code",
   "execution_count": 78,
   "id": "8e266ddb-2851-4f2b-ad24-ceb56c93b637",
   "metadata": {},
   "outputs": [
    {
     "name": "stdout",
     "output_type": "stream",
     "text": [
      "                        Geburtsjahr  Groesse_cm  Weg_zur_Hochschule_min\n",
      "Geburtsjahr                1.000000   -0.125296               -0.486218\n",
      "Groesse_cm                -0.125296    1.000000                0.302136\n",
      "Weg_zur_Hochschule_min    -0.486218    0.302136                1.000000\n"
     ]
    }
   ],
   "source": [
    "# Select only numeric columns\n",
    "numeric_df = df.select_dtypes(include=['float64', 'int64'])\n",
    "\n",
    "# Calculate the correlation matrix\n",
    "correlation_matrix = numeric_df.corr()\n",
    "\n",
    "# Print the correlation matrix\n",
    "print(correlation_matrix)"
   ]
  },
  {
   "cell_type": "code",
   "execution_count": 81,
   "id": "0b436dc1-9793-41b1-9a1a-f60f46a4f91b",
   "metadata": {},
   "outputs": [
    {
     "data": {
      "image/png": "[encoded data removed]",
      "text/plain": [
       "<Figure size 640x480 with 1 Axes>"
      ]
     },
     "metadata": {},
     "output_type": "display_data"
    }
   ],
   "source": [
    "import matplotlib.pyplot as plt\n",
    "\n",
    "# Scatter plot: Geburtsjahr vs. Größe (in cm)\n",
    "plt.scatter(df['Geburtsjahr'], df['Groesse_cm'], color='blue')\n",
    "\n",
    "# Adding title and labels\n",
    "plt.title('Scatter Plot: Geburtsjahr vs. Größe (in cm)')\n",
    "plt.xlabel('Geburtsjahr')\n",
    "plt.ylabel('Größe (in cm)')\n",
    "\n",
    "# Display the plot\n",
    "plt.show()"
   ]
  },
  {
   "cell_type": "code",
   "execution_count": 83,
   "id": "ea97e52d-8e3b-4169-b117-0c4d360d3eb9",
   "metadata": {},
   "outputs": [
    {
     "name": "stdout",
     "output_type": "stream",
     "text": [
      "Augenfarbe\n",
      "Blau     181.000000\n",
      "Braun    174.785714\n",
      "Grün     173.750000\n",
      "Name: Groesse_cm, dtype: float64\n"
     ]
    }
   ],
   "source": [
    "# Nach Augenfarbe gruppieren und durchschnittliche Größe berechnen\n",
    "grouped = df.groupby('Augenfarbe')['Groesse_cm'].mean()\n",
    "print(grouped)"
   ]
  },
  {
   "cell_type": "code",
   "execution_count": null,
   "id": "d0986722-ff7f-44ea-ad8c-8236880133b6",
   "metadata": {},
   "outputs": [],
   "source": []
  }
 ],
 "metadata": {
  "kernelspec": {
   "display_name": "Python 3 (ipykernel)",
   "language": "python",
   "name": "python3"
  },
  "language_info": {
   "codemirror_mode": {
    "name": "ipython",
    "version": 3
   },
   "file_extension": ".py",
   "mimetype": "text/x-python",
   "name": "python",
   "nbconvert_exporter": "python",
   "pygments_lexer": "ipython3",
   "version": "3.11.7"
  }
 },
 "nbformat": 4,
 "nbformat_minor": 5
}
